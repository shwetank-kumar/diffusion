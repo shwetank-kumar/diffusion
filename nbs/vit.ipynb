{
 "cells": [
  {
   "cell_type": "code",
   "execution_count": 1,
   "metadata": {},
   "outputs": [],
   "source": [
    "# %matplotlib notebook\n",
    "import torch\n",
    "from torch import nn\n",
    "import torchvision\n",
    "import torchvision.transforms as transforms\n",
    "from einops import rearrange, repeat\n",
    "import time\n",
    "import matplotlib.pyplot as plt\n",
    "import numpy as np"
   ]
  },
  {
   "cell_type": "markdown",
   "metadata": {},
   "source": [
    "## Check for GPU"
   ]
  },
  {
   "cell_type": "code",
   "execution_count": 2,
   "metadata": {},
   "outputs": [
    {
     "name": "stdout",
     "output_type": "stream",
     "text": [
      "Using device: cuda\n"
     ]
    }
   ],
   "source": [
    "# Check if GPU is available and set device\n",
    "device = torch.device(\"cuda\" if torch.cuda.is_available() else \"cpu\")\n",
    "print(f\"Using device: {device}\")"
   ]
  },
  {
   "cell_type": "markdown",
   "metadata": {},
   "source": [
    "## Get data"
   ]
  },
  {
   "cell_type": "code",
   "execution_count": 42,
   "metadata": {},
   "outputs": [
    {
     "name": "stdout",
     "output_type": "stream",
     "text": [
      "Files already downloaded and verified\n",
      "Files already downloaded and verified\n"
     ]
    }
   ],
   "source": [
    "train_transform = transforms.Compose([\n",
    "    transforms.RandomHorizontalFlip(),\n",
    "    transforms.RandomVerticalFlip(),\n",
    "    transforms.RandomRotation(10),\n",
    "    transforms.ColorJitter(brightness=0.2, contrast=0.2, saturation=0.2, hue=0.1),\n",
    "    transforms.RandomResizedCrop((32, 32), scale=(0.8, 1.0)),\n",
    "    transforms.ToTensor(),\n",
    "    transforms.Normalize(\n",
    "        mean=[0.5071, 0.4867, 0.4408],\n",
    "        std=[0.2675, 0.2565, 0.2761]\n",
    "    )\n",
    "])\n",
    "\n",
    "val_transform = transforms.Compose([\n",
    "    transforms.ToTensor(),\n",
    "    transforms.Normalize(\n",
    "        mean=[0.5071, 0.4867, 0.4408],\n",
    "        std=[0.2675, 0.2565, 0.2761]\n",
    "    )\n",
    "])\n",
    "\n",
    "# cifar100 = torchvision.datasets.CIFAR100(root='../datasets', download=True)\n",
    "cifar100_train = torchvision.datasets.CIFAR100(\n",
    "    root='../datasets', \n",
    "    train=True,  # Important: Specify train=True\n",
    "    transform=train_transform,\n",
    "    download=True\n",
    ")\n",
    "\n",
    "cifar100_val = torchvision.datasets.CIFAR100(\n",
    "    root='../datasets', \n",
    "    train=False,  # Using training set for validation\n",
    "    transform=val_transform,\n",
    "    download=True\n",
    ")\n",
    "\n",
    "# Create DataLoaders for training and validation\n",
    "batch_size = 512\n",
    "train_loader = torch.utils.data.DataLoader(\n",
    "    cifar100_train, batch_size=batch_size, shuffle=True, num_workers=12, pin_memory=True \n",
    ")\n",
    "val_loader = torch.utils.data.DataLoader(\n",
    "    cifar100_val, batch_size=batch_size, shuffle=False, num_workers=12\n",
    ")"
   ]
  },
  {
   "cell_type": "code",
   "execution_count": 4,
   "metadata": {},
   "outputs": [],
   "source": [
    "# Get a batch of images and their corresponding names\n",
    "dataiter = iter(train_loader)\n",
    "images, targets = next(dataiter)\n",
    "images = images.to(device)"
   ]
  },
  {
   "cell_type": "markdown",
   "metadata": {},
   "source": [
    "## Plot data"
   ]
  },
  {
   "cell_type": "code",
   "execution_count": 5,
   "metadata": {},
   "outputs": [],
   "source": [
    "def show_batch(images, is_patches=False, patch_grid=None, line_width=1, line_color=(0, 0, 0)):\n",
    "    \"\"\"\n",
    "    Display a batch of images or image patches with grid lines separating patches.\n",
    "    \"\"\"\n",
    "    # Convert to CPU and make a copy\n",
    "    images = images.cpu().clone().detach()\n",
    "\n",
    "    # Denormalize\n",
    "    mean = torch.tensor([0.5071, 0.4867, 0.4408]).view(1, 3, 1, 1).to(images.device)\n",
    "    std = torch.tensor([0.2675, 0.2565, 0.2761]).view(1, 3, 1, 1).to(images.device)\n",
    "    \n",
    "    # Denormalize: undo the normalization\n",
    "    images = images * std + mean\n",
    "\n",
    "    # Ensure values are in valid range\n",
    "    images = torch.clamp(images, 0, 1)\n",
    "    \n",
    "    if not is_patches:\n",
    "        # For regular images, rearrange from [B, C, H, W] to [B, H, W, C]\n",
    "        images = rearrange(images, 'b c h w -> b h w c')\n",
    "        images = images.numpy()\n",
    "    \n",
    "    # Get number of images in batch\n",
    "    batch_size = images.shape[0]\n",
    "    \n",
    "    # Calculate grid dimensions\n",
    "    ncols = 4\n",
    "    nrows = (batch_size + ncols - 1) // ncols  # Ceiling division to ensure all images fit\n",
    "    \n",
    "    # Create figure with larger size\n",
    "    # Adjust these multipliers to change individual image size\n",
    "    plt.figure(figsize=(4 * ncols, 4 * nrows))  # Each image gets roughly 4x4 inches\n",
    "    \n",
    "    # Create subplot grid\n",
    "    for idx in range(batch_size):\n",
    "        plt.subplot(nrows, ncols, idx + 1)\n",
    "        plt.imshow(images[idx])\n",
    "        plt.axis('off')\n",
    "    \n",
    "    plt.tight_layout()\n",
    "    plt.show()\n",
    "\n",
    "# Usage:\n",
    "# fig = show_batch(images, is_patches=False)"
   ]
  },
  {
   "cell_type": "markdown",
   "metadata": {},
   "source": [
    "## Model architecture"
   ]
  },
  {
   "cell_type": "code",
   "execution_count": 6,
   "metadata": {},
   "outputs": [
    {
     "name": "stdout",
     "output_type": "stream",
     "text": [
      "Number of channels (C): 3\n",
      "Height (H): 32\n",
      "Width (W): 32\n",
      "Patch size (patch_size): 4\n",
      "Number of patches (num_patches): 64\n",
      "Embedding dimension (emb_dim): 384\n",
      "Number of heads (num_heads): 6\n",
      "Head dimension: 64\n",
      "Number of transformer layers (num_layers): 6\n",
      "Hidden dimensions: 1536\n",
      "Number of classes: 100\n"
     ]
    }
   ],
   "source": [
    "C = images.shape[1]\n",
    "H = images.shape[2]\n",
    "W = images.shape[3]\n",
    "patch_size = 4\n",
    "num_patches = H*W // patch_size**2\n",
    "emb_dim = 768\n",
    "num_heads = 6\n",
    "num_layers = 12\n",
    "hidden_dim = 4*emb_dim\n",
    "dropout = 0.3\n",
    "n_classes = 100\n",
    "img_shape = (H,W)\n",
    "print(f\"Number of channels (C): {C}\")\n",
    "print(f\"Height (H): {H}\")\n",
    "print(f\"Width (W): {W}\")\n",
    "print(f\"Patch size (patch_size): {patch_size}\")\n",
    "print(f\"Number of patches (num_patches): {num_patches}\")\n",
    "print(f\"Embedding dimension (emb_dim): {emb_dim}\")\n",
    "print(f\"Number of heads (num_heads): {num_heads}\")\n",
    "print(f\"Head dimension: {emb_dim // num_heads}\")\n",
    "print(f\"Number of transformer layers (num_layers): {num_layers}\")\n",
    "print(f\"Hidden dimensions: {hidden_dim}\")\n",
    "print(f\"Number of classes: {n_classes}\")"
   ]
  },
  {
   "cell_type": "code",
   "execution_count": 7,
   "metadata": {},
   "outputs": [
    {
     "data": {
      "text/plain": [
       "torch.Size([256, 3, 32, 32])"
      ]
     },
     "execution_count": 7,
     "metadata": {},
     "output_type": "execute_result"
    }
   ],
   "source": [
    "images.shape"
   ]
  },
  {
   "cell_type": "code",
   "execution_count": 8,
   "metadata": {},
   "outputs": [],
   "source": [
    "# fig = show_batch(images.cpu(), is_patches=False)"
   ]
  },
  {
   "cell_type": "markdown",
   "metadata": {},
   "source": [
    "## Patch "
   ]
  },
  {
   "cell_type": "code",
   "execution_count": 9,
   "metadata": {},
   "outputs": [],
   "source": [
    "import torch\n",
    "import torch.nn as nn\n",
    "\n",
    "class Patchify(nn.Module):\n",
    "    def __init__(self, patch_size: int, C: int, img_shape: tuple, emb_dim: int):\n",
    "        \"\"\"\n",
    "        Args:\n",
    "            patch_size (int): Size of each patch (height and width).\n",
    "            C (int): Number of input channels.\n",
    "            img_shape (tuple): Shape of the input image (height, width).\n",
    "            emb_dim (int): Dimension of the patch embeddings.\n",
    "        \"\"\"\n",
    "        super(Patchify, self).__init__()\n",
    "        self.patch_size = patch_size\n",
    "        self.C = C\n",
    "        self.h, self.w = img_shape\n",
    "        self.emb_dim = emb_dim\n",
    "        \n",
    "        # Calculate the number of patches\n",
    "        self.num_patches = (self.h // patch_size) * (self.w // patch_size)\n",
    "        \n",
    "        # Learnable class token (shape: (1, emb_dim))\n",
    "        self.class_token = nn.Parameter(torch.randn(1, emb_dim))\n",
    "        \n",
    "        # Learnable positional embeddings (shape: (1, num_patches + 1, emb_dim))\n",
    "        self.pos_emb = nn.Parameter(torch.randn(1, self.num_patches + 1, emb_dim))\n",
    "        \n",
    "        # Linear projection layer (if patch embedding dimension != emb_dim)\n",
    "        self.proj = nn.Linear(patch_size * patch_size * C, emb_dim) if patch_size * patch_size * C != emb_dim else nn.Identity()\n",
    "        \n",
    "        self.patch_emb_dropout = nn.Dropout(dropout)\n",
    "        \n",
    "    def forward(self, x: torch.Tensor) -> torch.Tensor:\n",
    "        \"\"\"\n",
    "        Args:\n",
    "            x (torch.Tensor): Input image tensor of shape (batch_size, C, H, W).\n",
    "        \n",
    "        Returns:\n",
    "            torch.Tensor: Patch embeddings with class token and positional embeddings,\n",
    "                          of shape (batch_size, num_patches + 1, emb_dim).\n",
    "        \"\"\"\n",
    "        # Patchify the image: (batch_size, C, H, W) -> (batch_size, num_patches, patch_size * patch_size * C)\n",
    "        x = rearrange(x, 'b c (h p1) (w p2) -> b (h w) (p1 p2 c)', p1=self.patch_size, p2=self.patch_size)\n",
    "        \n",
    "        # Project patch embeddings to the embedding dimension (if necessary)\n",
    "        x = self.proj(x)  # Shape: (batch_size, num_patches, emb_dim)\n",
    "        \n",
    "        # Get batch size dynamically\n",
    "        batch_size = x.shape[0]\n",
    "        \n",
    "        # Expand class token to match batch size: (1, emb_dim) -> (batch_size, 1, emb_dim)\n",
    "        class_token = repeat(self.class_token, '1 d -> b 1 d', b=batch_size)\n",
    "        \n",
    "        # Prepend the class token to the patch embeddings\n",
    "        x = torch.cat([class_token, x], dim=1)  # Shape: (batch_size, num_patches + 1, emb_dim)\n",
    "        \n",
    "        # Add positional embeddings\n",
    "        x = x + self.pos_emb  # Shape: (batch_size, num_patches + 1, emb_dim)\n",
    "        \n",
    "        x = self.patch_emb_dropout(x)\n",
    "        \n",
    "        return x"
   ]
  },
  {
   "cell_type": "code",
   "execution_count": 10,
   "metadata": {},
   "outputs": [
    {
     "data": {
      "text/plain": [
       "torch.Size([256, 65, 384])"
      ]
     },
     "execution_count": 10,
     "metadata": {},
     "output_type": "execute_result"
    }
   ],
   "source": [
    "patchify = Patchify(patch_size=patch_size, C=C, img_shape=(H,W), emb_dim=emb_dim).to(device)\n",
    "patches = patchify(images)\n",
    "patches.shape"
   ]
  },
  {
   "cell_type": "code",
   "execution_count": 11,
   "metadata": {},
   "outputs": [],
   "source": [
    "## From a scratch\n",
    "# import torch.nn.functional as F\n",
    "# class MHSA(nn.Module):\n",
    "#     def __init__(self, num_heads, emb_dim):\n",
    "#         super(MHSA, self).__init__()\n",
    "#         self.num_heads = num_heads\n",
    "#         self.emb_dim = emb_dim\n",
    "#         self.head_dim = emb_dim // num_heads \n",
    "#         self.wq = nn.Linear(emb_dim, emb_dim)\n",
    "#         self.wk = nn.Linear(emb_dim, emb_dim)\n",
    "#         self.wv = nn.Linear(emb_dim, emb_dim)\n",
    "#         self.attn_dropout = nn.Dropout(dropout)\n",
    "        \n",
    "#     def forward(self, x):\n",
    "#         batch_size, num_patches_plus_1, emb_dim = x.shape\n",
    "#         q = self.wq(x) ## bs, num_patches + 1, emb_dim\n",
    "#         k = self.wk(x) ## bs, num_patches + 1, emb_dim\n",
    "#         v = self.wv(x) ## bs, num_patches + 1, emb_dim\n",
    "#         q = rearrange(q, 'bs patches_plus_1 (num_heads head_size) -> bs num_heads patches_plus_1 head_size', num_heads=self.num_heads, head_size=self.head_dim)\n",
    "#         k = rearrange(k, 'bs patches_plus_1 (num_heads head_size) -> bs num_heads patches_plus_1 head_size', num_heads=self.num_heads, head_size=self.head_dim)\n",
    "#         v = rearrange(v, 'bs patches_plus_1 (num_heads head_size) -> bs num_heads patches_plus_1 head_size', num_heads=self.num_heads, head_size=self.head_dim)\n",
    "#         attention_scores = q @ torch.transpose(k,-1,-2) * (self.head_dim ** -0.5)\n",
    "#         attention_scores = F.softmax(attention_scores, dim=-1)\n",
    "#         attention_scores = self.attn_dropout(attention_scores)\n",
    "#         output = attention_scores @ v\n",
    "#         output = rearrange(output, 'bs num_heads patch_size head_dim -> bs patch_size (head_dim num_heads)')\n",
    "#         # return q, k, v, output\n",
    "#         return output\n",
    "\n",
    "import torch\n",
    "import torch.nn as nn\n",
    "import torch.nn.functional as F\n",
    "from einops import rearrange\n",
    "\n",
    "class MHSA(nn.Module):\n",
    "    def __init__(self, num_heads, emb_dim):\n",
    "        super().__init__()\n",
    "        self.num_heads = num_heads\n",
    "        self.emb_dim = emb_dim\n",
    "        self.head_dim = emb_dim // num_heads\n",
    "        \n",
    "        # Combine QKV into single matrix for efficiency\n",
    "        self.qkv = nn.Linear(emb_dim, 3 * emb_dim, bias=False)\n",
    "        self.attn_dropout = nn.Dropout(dropout)\n",
    "        \n",
    "    def forward(self, x):\n",
    "        batch_size, num_patches_plus_1, emb_dim = x.shape\n",
    "        \n",
    "        # Single matrix multiplication for Q, K, V\n",
    "        qkv = self.qkv(x)\n",
    "        qkv = rearrange(qkv, 'b n (three h d) -> three b h n d', \n",
    "                       three=3, h=self.num_heads)\n",
    "        q, k, v = qkv[0], qkv[1], qkv[2]\n",
    "        \n",
    "        # Use PyTorch's native scaled dot-product attention\n",
    "        output = F.scaled_dot_product_attention(\n",
    "            q, k, v,\n",
    "            dropout_p=self.attn_dropout.p if self.training else 0.0,\n",
    "            is_causal=False\n",
    "        )\n",
    "        \n",
    "        # Reshape output\n",
    "        output = rearrange(output, 'b h n d -> b n (h d)')\n",
    "        \n",
    "        return output\n",
    "        "
   ]
  },
  {
   "cell_type": "code",
   "execution_count": 12,
   "metadata": {},
   "outputs": [],
   "source": [
    "# mhsa = MHSA(num_heads, emb_dim).to(device)"
   ]
  },
  {
   "cell_type": "code",
   "execution_count": 13,
   "metadata": {},
   "outputs": [],
   "source": [
    "# q, k, v, out = mhsa(patches)\n",
    "# print(q.shape, k.shape, v.shape, out.shape)"
   ]
  },
  {
   "cell_type": "code",
   "execution_count": 14,
   "metadata": {},
   "outputs": [],
   "source": [
    "class VITLayer(nn.Module):\n",
    "    def __init__(self, num_heads, emb_dim, hidden_dim):\n",
    "        super(VITLayer, self).__init__()\n",
    "        self.ff_block = nn.Sequential(nn.Linear(emb_dim, hidden_dim),\n",
    "                                     nn.GELU(),\n",
    "                                     nn.Dropout(dropout),\n",
    "                                     nn.Linear(hidden_dim,emb_dim), \n",
    "                                     nn.Dropout(dropout))\n",
    "        self.ff_norm = nn.LayerNorm(emb_dim)\n",
    "        self.attention_norm = nn.LayerNorm(emb_dim)\n",
    "        self.attention_block = MHSA(num_heads, emb_dim)\n",
    "        \n",
    "    def forward(self, x):\n",
    "        x = x + self.attention_block(self.attention_norm(x))\n",
    "        x = x + self.ff_block(self.ff_norm(x))\n",
    "        \n",
    "        return x\n",
    "        "
   ]
  },
  {
   "cell_type": "code",
   "execution_count": 15,
   "metadata": {},
   "outputs": [],
   "source": [
    "vit_layer = VITLayer(num_heads=num_heads, emb_dim=emb_dim, hidden_dim=emb_dim*4).to(device)"
   ]
  },
  {
   "cell_type": "code",
   "execution_count": 16,
   "metadata": {},
   "outputs": [],
   "source": [
    "class VIT(nn.Module):\n",
    "    def __init__(self, \n",
    "                 num_layers = num_layers, \n",
    "                 num_heads = num_heads, \n",
    "                 emb_dim = emb_dim, \n",
    "                 hidden_dim = hidden_dim, \n",
    "                 patch_size = patch_size,\n",
    "                 C = C, \n",
    "                 img_shape = img_shape,\n",
    "                 n_classes = n_classes):\n",
    "        super(VIT,self).__init__()\n",
    "        self.patch_embedding = Patchify(patch_size=patch_size, C=C, img_shape=img_shape, emb_dim=emb_dim)\n",
    "        self.xfls = nn.ModuleList([VITLayer(num_heads=num_heads, \n",
    "                                               emb_dim=emb_dim, \n",
    "                                               hidden_dim=hidden_dim) \n",
    "                                  for i in range(num_layers)])\n",
    "        self.norm = nn.LayerNorm(emb_dim)\n",
    "        self.lin = nn.Linear(emb_dim, n_classes)\n",
    "        \n",
    "    def forward(self, x):\n",
    "        x = self.patch_embedding(x)\n",
    "        for layer in self.xfls:\n",
    "            x = layer(x)\n",
    "            \n",
    "        x = self.norm(x)\n",
    "        logits = self.lin(x)\n",
    "        return logits[:, 0]"
   ]
  },
  {
   "cell_type": "code",
   "execution_count": 17,
   "metadata": {},
   "outputs": [],
   "source": [
    "vit = VIT(num_layers = num_layers, \n",
    "                 num_heads = num_heads, \n",
    "                 emb_dim = emb_dim, \n",
    "                 hidden_dim = hidden_dim, \n",
    "                 patch_size = patch_size,\n",
    "                 C = C, \n",
    "                 img_shape = img_shape,\n",
    "                 n_classes = n_classes).to(device)\n",
    "# vit.load_state_dict(torch.load('vit_weights.pth'))"
   ]
  },
  {
   "cell_type": "code",
   "execution_count": 18,
   "metadata": {},
   "outputs": [],
   "source": [
    "## Calculate number of params\n",
    "total_params = 0\n",
    "for name, param in vit.named_parameters():\n",
    "    if param.requires_grad:\n",
    "        num_params = param.numel()\n",
    "        print(f\"{name}: {num_params:,} parameters\")\n",
    "        total_params += num_params\n",
    "print(f\"Total trainable parameters: {total_params:,}\")"
   ]
  },
  {
   "cell_type": "code",
   "execution_count": 19,
   "metadata": {},
   "outputs": [
    {
     "data": {
      "text/plain": [
       "torch.Size([256, 100])"
      ]
     },
     "execution_count": 19,
     "metadata": {},
     "output_type": "execute_result"
    }
   ],
   "source": [
    "out = vit(images)\n",
    "out.shape"
   ]
  },
  {
   "cell_type": "code",
   "execution_count": 20,
   "metadata": {},
   "outputs": [
    {
     "data": {
      "text/plain": [
       "tensor(4.8031, grad_fn=<NllLossBackward0>)"
      ]
     },
     "execution_count": 20,
     "metadata": {},
     "output_type": "execute_result"
    }
   ],
   "source": [
    "## Checking initialization and making sure loss is reasonable\n",
    "import torch.nn.functional as F\n",
    "loss = F.cross_entropy(out.to('cpu'), targets)\n",
    "loss"
   ]
  },
  {
   "cell_type": "code",
   "execution_count": 21,
   "metadata": {},
   "outputs": [],
   "source": [
    "# targets"
   ]
  },
  {
   "cell_type": "code",
   "execution_count": 22,
   "metadata": {},
   "outputs": [],
   "source": [
    "## To continue training\n",
    "# vit.load_state_dict(torch.load('vit_weights.pth'))"
   ]
  },
  {
   "cell_type": "code",
   "execution_count": 44,
   "metadata": {},
   "outputs": [
    {
     "name": "stdout",
     "output_type": "stream",
     "text": [
      "Epoch [1/100], Train Loss: 2.4511, Val Loss: 2.4719, Time: 8.86 seconds\n",
      "Epoch [2/100], Train Loss: 2.4524, Val Loss: 2.4730, Time: 8.64 seconds\n",
      "Epoch [3/100], Train Loss: 2.4508, Val Loss: 2.4694, Time: 8.45 seconds\n",
      "Epoch [4/100], Train Loss: 2.4523, Val Loss: 2.4705, Time: 8.58 seconds\n",
      "Epoch [5/100], Train Loss: 2.4609, Val Loss: 2.4645, Time: 8.61 seconds\n",
      "Epoch [6/100], Train Loss: 2.4530, Val Loss: 2.4715, Time: 8.52 seconds\n",
      "Epoch [7/100], Train Loss: 2.4559, Val Loss: 2.4702, Time: 8.50 seconds\n",
      "Epoch [8/100], Train Loss: 2.4507, Val Loss: 2.4700, Time: 8.64 seconds\n",
      "Epoch [9/100], Train Loss: 2.4462, Val Loss: 2.4686, Time: 8.63 seconds\n",
      "Epoch [10/100], Train Loss: 2.4426, Val Loss: 2.4730, Time: 8.48 seconds\n",
      "Epoch [11/100], Train Loss: 2.4468, Val Loss: 2.4683, Time: 8.52 seconds\n",
      "Epoch [12/100], Train Loss: 2.4559, Val Loss: 2.4694, Time: 8.58 seconds\n",
      "Epoch [13/100], Train Loss: 2.4451, Val Loss: 2.4689, Time: 8.55 seconds\n",
      "Epoch [14/100], Train Loss: 2.4545, Val Loss: 2.4656, Time: 8.59 seconds\n",
      "Epoch [15/100], Train Loss: 2.4427, Val Loss: 2.4692, Time: 8.44 seconds\n",
      "Epoch [16/100], Train Loss: 2.4472, Val Loss: 2.4674, Time: 8.60 seconds\n",
      "Epoch [17/100], Train Loss: 2.4530, Val Loss: 2.4644, Time: 8.50 seconds\n",
      "Epoch [18/100], Train Loss: 2.4437, Val Loss: 2.4691, Time: 8.55 seconds\n",
      "Epoch [19/100], Train Loss: 2.4468, Val Loss: 2.4724, Time: 8.52 seconds\n",
      "Epoch [20/100], Train Loss: 2.4456, Val Loss: 2.4642, Time: 8.49 seconds\n",
      "Epoch [21/100], Train Loss: 2.4470, Val Loss: 2.4705, Time: 8.47 seconds\n",
      "Epoch [22/100], Train Loss: 2.4389, Val Loss: 2.4657, Time: 8.68 seconds\n",
      "Epoch [23/100], Train Loss: 2.4402, Val Loss: 2.4673, Time: 8.42 seconds\n",
      "Epoch [24/100], Train Loss: 2.4371, Val Loss: 2.4651, Time: 8.54 seconds\n",
      "Epoch [25/100], Train Loss: 2.4391, Val Loss: 2.4655, Time: 8.55 seconds\n",
      "Epoch [26/100], Train Loss: 2.4361, Val Loss: 2.4669, Time: 8.72 seconds\n",
      "Epoch [27/100], Train Loss: 2.4328, Val Loss: 2.4664, Time: 8.63 seconds\n",
      "Epoch [28/100], Train Loss: 2.4381, Val Loss: 2.4653, Time: 8.58 seconds\n",
      "Epoch [29/100], Train Loss: 2.4351, Val Loss: 2.4652, Time: 8.69 seconds\n",
      "Epoch [30/100], Train Loss: 2.4347, Val Loss: 2.4649, Time: 8.63 seconds\n",
      "Epoch [31/100], Train Loss: 2.4391, Val Loss: 2.4659, Time: 8.72 seconds\n",
      "Epoch [32/100], Train Loss: 2.4392, Val Loss: 2.4640, Time: 8.69 seconds\n",
      "Epoch [33/100], Train Loss: 2.4373, Val Loss: 2.4644, Time: 8.62 seconds\n",
      "Epoch [34/100], Train Loss: 2.4402, Val Loss: 2.4655, Time: 8.54 seconds\n",
      "Epoch [35/100], Train Loss: 2.4352, Val Loss: 2.4639, Time: 8.54 seconds\n",
      "Epoch [36/100], Train Loss: 2.4299, Val Loss: 2.4641, Time: 8.62 seconds\n",
      "Epoch [37/100], Train Loss: 2.4350, Val Loss: 2.4638, Time: 8.47 seconds\n",
      "Epoch [38/100], Train Loss: 2.4319, Val Loss: 2.4636, Time: 8.62 seconds\n",
      "Epoch [39/100], Train Loss: 2.4374, Val Loss: 2.4637, Time: 8.63 seconds\n",
      "Epoch [40/100], Train Loss: 2.4376, Val Loss: 2.4637, Time: 8.51 seconds\n",
      "Epoch [41/100], Train Loss: 2.4352, Val Loss: 2.4631, Time: 8.56 seconds\n",
      "Epoch [42/100], Train Loss: 2.4413, Val Loss: 2.4637, Time: 8.66 seconds\n",
      "Epoch [43/100], Train Loss: 2.4374, Val Loss: 2.4647, Time: 8.59 seconds\n",
      "Epoch [44/100], Train Loss: 2.4370, Val Loss: 2.4631, Time: 8.57 seconds\n",
      "Epoch [45/100], Train Loss: 2.4350, Val Loss: 2.4624, Time: 8.56 seconds\n",
      "Epoch [46/100], Train Loss: 2.4400, Val Loss: 2.4642, Time: 8.64 seconds\n",
      "Epoch [47/100], Train Loss: 2.4433, Val Loss: 2.4632, Time: 8.56 seconds\n",
      "Epoch [48/100], Train Loss: 2.4452, Val Loss: 2.4619, Time: 8.62 seconds\n",
      "Epoch [49/100], Train Loss: 2.4352, Val Loss: 2.4619, Time: 8.50 seconds\n",
      "Epoch [50/100], Train Loss: 2.4380, Val Loss: 2.4616, Time: 8.55 seconds\n",
      "Epoch [51/100], Train Loss: 2.4424, Val Loss: 2.4617, Time: 8.69 seconds\n",
      "Epoch [52/100], Train Loss: 2.4376, Val Loss: 2.4621, Time: 8.51 seconds\n",
      "Epoch [53/100], Train Loss: 2.4342, Val Loss: 2.4617, Time: 8.55 seconds\n",
      "Epoch [54/100], Train Loss: 2.4398, Val Loss: 2.4631, Time: 8.45 seconds\n",
      "Epoch [55/100], Train Loss: 2.4389, Val Loss: 2.4629, Time: 8.61 seconds\n",
      "Epoch [56/100], Train Loss: 2.4359, Val Loss: 2.4619, Time: 8.52 seconds\n",
      "Epoch [57/100], Train Loss: 2.4387, Val Loss: 2.4638, Time: 8.59 seconds\n",
      "Epoch [58/100], Train Loss: 2.4381, Val Loss: 2.4633, Time: 8.62 seconds\n",
      "Epoch [59/100], Train Loss: 2.4253, Val Loss: 2.4633, Time: 8.58 seconds\n",
      "Epoch [60/100], Train Loss: 2.4291, Val Loss: 2.4640, Time: 8.57 seconds\n",
      "Epoch [61/100], Train Loss: 2.4341, Val Loss: 2.4614, Time: 8.51 seconds\n",
      "Epoch [62/100], Train Loss: 2.4348, Val Loss: 2.4617, Time: 8.49 seconds\n",
      "Epoch [63/100], Train Loss: 2.4313, Val Loss: 2.4617, Time: 8.61 seconds\n",
      "Epoch [64/100], Train Loss: 2.4300, Val Loss: 2.4614, Time: 8.67 seconds\n",
      "Epoch [65/100], Train Loss: 2.4310, Val Loss: 2.4628, Time: 8.52 seconds\n",
      "Epoch [66/100], Train Loss: 2.4387, Val Loss: 2.4628, Time: 8.63 seconds\n",
      "Epoch [67/100], Train Loss: 2.4293, Val Loss: 2.4623, Time: 8.58 seconds\n",
      "Epoch [68/100], Train Loss: 2.4379, Val Loss: 2.4624, Time: 8.67 seconds\n",
      "Epoch [69/100], Train Loss: 2.4348, Val Loss: 2.4623, Time: 8.61 seconds\n",
      "Epoch [70/100], Train Loss: 2.4336, Val Loss: 2.4628, Time: 8.55 seconds\n",
      "Epoch [71/100], Train Loss: 2.4304, Val Loss: 2.4621, Time: 8.55 seconds\n",
      "Epoch [72/100], Train Loss: 2.4339, Val Loss: 2.4607, Time: 8.55 seconds\n",
      "Epoch [73/100], Train Loss: 2.4284, Val Loss: 2.4610, Time: 8.53 seconds\n",
      "Epoch [74/100], Train Loss: 2.4361, Val Loss: 2.4618, Time: 8.67 seconds\n",
      "Epoch [75/100], Train Loss: 2.4324, Val Loss: 2.4611, Time: 8.49 seconds\n",
      "Epoch [76/100], Train Loss: 2.4274, Val Loss: 2.4608, Time: 8.58 seconds\n",
      "Epoch [77/100], Train Loss: 2.4375, Val Loss: 2.4612, Time: 8.49 seconds\n",
      "Epoch [78/100], Train Loss: 2.4304, Val Loss: 2.4610, Time: 8.53 seconds\n",
      "Epoch [79/100], Train Loss: 2.4269, Val Loss: 2.4618, Time: 8.49 seconds\n",
      "Epoch [80/100], Train Loss: 2.4354, Val Loss: 2.4612, Time: 8.58 seconds\n",
      "Epoch [81/100], Train Loss: 2.4380, Val Loss: 2.4605, Time: 8.57 seconds\n",
      "Epoch [82/100], Train Loss: 2.4310, Val Loss: 2.4610, Time: 8.56 seconds\n",
      "Epoch [83/100], Train Loss: 2.4362, Val Loss: 2.4616, Time: 8.64 seconds\n",
      "Epoch [84/100], Train Loss: 2.4324, Val Loss: 2.4607, Time: 8.55 seconds\n",
      "Epoch [85/100], Train Loss: 2.4413, Val Loss: 2.4612, Time: 8.55 seconds\n",
      "Epoch [86/100], Train Loss: 2.4352, Val Loss: 2.4602, Time: 8.57 seconds\n",
      "Epoch [87/100], Train Loss: 2.4300, Val Loss: 2.4608, Time: 8.58 seconds\n",
      "Epoch [88/100], Train Loss: 2.4309, Val Loss: 2.4596, Time: 8.56 seconds\n",
      "Epoch [89/100], Train Loss: 2.4351, Val Loss: 2.4605, Time: 8.57 seconds\n",
      "Epoch [90/100], Train Loss: 2.4294, Val Loss: 2.4614, Time: 8.54 seconds\n",
      "Epoch [91/100], Train Loss: 2.4302, Val Loss: 2.4612, Time: 8.64 seconds\n",
      "Epoch [92/100], Train Loss: 2.4345, Val Loss: 2.4608, Time: 8.68 seconds\n",
      "Epoch [93/100], Train Loss: 2.4236, Val Loss: 2.4613, Time: 8.61 seconds\n",
      "Epoch [94/100], Train Loss: 2.4382, Val Loss: 2.4616, Time: 8.61 seconds\n",
      "Epoch [95/100], Train Loss: 2.4343, Val Loss: 2.4600, Time: 8.56 seconds\n",
      "Epoch [96/100], Train Loss: 2.4263, Val Loss: 2.4612, Time: 8.52 seconds\n",
      "Epoch [97/100], Train Loss: 2.4277, Val Loss: 2.4636, Time: 8.62 seconds\n",
      "Epoch [98/100], Train Loss: 2.4301, Val Loss: 2.4603, Time: 8.57 seconds\n",
      "Epoch [99/100], Train Loss: 2.4285, Val Loss: 2.4602, Time: 8.55 seconds\n",
      "Epoch [100/100], Train Loss: 2.4306, Val Loss: 2.4601, Time: 8.59 seconds\n"
     ]
    },
    {
     "data": {
      "image/png": "[encoded data removed]",
      "text/plain": [
       "<Figure size 1000x600 with 1 Axes>"
      ]
     },
     "metadata": {},
     "output_type": "display_data"
    }
   ],
   "source": [
    "from accelerate import Accelerator\n",
    "import torch.optim as optim\n",
    "import matplotlib.pyplot as plt\n",
    "from torch.optim.lr_scheduler import ReduceLROnPlateau\n",
    "from torch.optim.lr_scheduler import LinearLR\n",
    "\n",
    "# Initialize accelerator\n",
    "accelerator = Accelerator(mixed_precision='bf16')\n",
    "\n",
    "# Hyperparameters\n",
    "warmup_epochs = 5\n",
    "num_epochs = 100\n",
    "learning_rate = 1e-5\n",
    "\n",
    "# Initialize optimizer\n",
    "optimizer = optim.Adam(vit.parameters(), lr=learning_rate, weight_decay=1e-4)\n",
    "\n",
    "# Lists to store loss values for plotting\n",
    "train_losses = []\n",
    "val_losses = []\n",
    "\n",
    "# scheduler = ReduceLROnPlateau(\n",
    "#     optimizer, \n",
    "#     mode='min',\n",
    "#     factor=0.1,\n",
    "#     patience=5,\n",
    "#     min_lr=1e-6\n",
    "# )\n",
    "\n",
    "scheduler_warmup = LinearLR(optimizer, start_factor=0.01, total_iters=warmup_epochs)\n",
    "scheduler_plateau = ReduceLROnPlateau(optimizer, mode='min', factor=0.1, patience=5, min_lr=1e-6)\n",
    "\n",
    "\n",
    "# Prepare model, dataloaders, and optimizer with accelerator\n",
    "vit, optimizer, train_loader, val_loader = accelerator.prepare(\n",
    "    vit, optimizer, train_loader, val_loader\n",
    ")\n",
    "\n",
    "# Training loop\n",
    "for epoch in range(num_epochs):\n",
    "    epoch_start_time = time.time()\n",
    "    \n",
    "    # Training phase\n",
    "    vit.train()\n",
    "    running_train_loss = 0.0\n",
    "    \n",
    "    for batch_idx, (images, targets) in enumerate(train_loader):\n",
    "        optimizer.zero_grad()\n",
    "        outputs = vit(images)\n",
    "        loss = F.cross_entropy(outputs, targets)\n",
    "        \n",
    "        # Use accelerator for backward pass\n",
    "        accelerator.backward(loss)\n",
    "        optimizer.step()\n",
    "        running_train_loss += loss.item()\n",
    "    \n",
    "    train_loss = running_train_loss / len(train_loader)\n",
    "    train_losses.append(train_loss)\n",
    "    \n",
    "    # Validation phase\n",
    "    vit.eval()\n",
    "    running_val_loss = 0.0\n",
    "    \n",
    "    with torch.no_grad():\n",
    "        for batch_idx, (images, targets) in enumerate(val_loader):\n",
    "            outputs = vit(images)\n",
    "            loss = F.cross_entropy(outputs, targets)\n",
    "            running_val_loss += loss.item()\n",
    "    \n",
    "    val_loss = running_val_loss / len(val_loader)\n",
    "    val_losses.append(val_loss)\n",
    "    \n",
    "    # Print epoch statistics\n",
    "    epoch_time = time.time() - epoch_start_time\n",
    "    print(f'Epoch [{epoch+1}/{num_epochs}], '\n",
    "          f'Train Loss: {train_loss:.4f}, Val Loss: {val_loss:.4f}, '\n",
    "          f'Time: {epoch_time:.2f} seconds')\n",
    "    \n",
    "    # Update the schedulers\n",
    "    if epoch < warmup_epochs:\n",
    "        scheduler_warmup.step()\n",
    "    else:\n",
    "        scheduler_plateau.step(val_loss)\n",
    "\n",
    "# Save model weights (unwrap model first)\n",
    "unwrapped_model = accelerator.unwrap_model(vit)\n",
    "torch.save(unwrapped_model.state_dict(), 'vit_weights.pth')\n",
    "\n",
    "# Plot the final training and validation losses\n",
    "plt.figure(figsize=(10, 6))\n",
    "plt.plot(range(1, len(train_losses) + 1), train_losses, 'b-', label='Training Loss')\n",
    "plt.plot(range(1, len(val_losses) + 1), val_losses, 'r-', label='Validation Loss')\n",
    "plt.xlabel('Epoch')\n",
    "plt.ylabel('Loss')\n",
    "plt.title('Training and Validation Loss Over Epochs')\n",
    "plt.legend()\n",
    "plt.grid(True)\n",
    "plt.show()"
   ]
  },
  {
   "cell_type": "code",
   "execution_count": 45,
   "metadata": {},
   "outputs": [],
   "source": [
    "# Save model\n",
    "# torch.save(vit.state_dict(), 'vit_weights.pth')\n",
    "def save_weights(model, path):\n",
    "    \"\"\"\n",
    "    Converts all model weights to bfloat16 before saving\n",
    "    \"\"\"\n",
    "    bfloat16_state_dict = {\n",
    "        key: value.to(torch.bfloat16) if value.dtype in [torch.float32, torch.float16] \n",
    "        else value\n",
    "        for key, value in model.state_dict().items()\n",
    "    }\n",
    "    torch.save(bfloat16_state_dict, path)\n",
    "    \n",
    "save_weights(vit, 'vit_weights.pth')"
   ]
  },
  {
   "cell_type": "code",
   "execution_count": null,
   "metadata": {},
   "outputs": [],
   "source": [
    "vit_test = VIT()\n",
    "vit_test.load_state_dict(torch.load('vit_weights.pth'))\n",
    "vit_test.to(device)\n",
    "vit_test.eval()"
   ]
  },
  {
   "cell_type": "code",
   "execution_count": null,
   "metadata": {},
   "outputs": [],
   "source": [
    "import torch\n",
    "from tqdm import tqdm\n",
    "\n",
    "def evaluate(model, val_loader, device):\n",
    "    model.eval()\n",
    "    correct = 0\n",
    "    total = 0\n",
    "    all_preds = []\n",
    "    all_labels = []\n",
    "    \n",
    "    with torch.no_grad():\n",
    "        for images, labels in tqdm(val_loader, desc=\"Evaluating\"):\n",
    "            images = images.to(device)\n",
    "            labels = labels.to(device)\n",
    "            \n",
    "            outputs = model(images)\n",
    "            _, predicted = torch.max(outputs.data, 1)\n",
    "            \n",
    "            total += labels.size(0)\n",
    "            correct += (predicted == labels).sum().item()\n",
    "            \n",
    "            # Store predictions and labels if you need them later\n",
    "            all_preds.extend(predicted.cpu().numpy())\n",
    "            all_labels.extend(labels.cpu().numpy())\n",
    "    \n",
    "    accuracy = 100 * correct / total\n",
    "    print(f'Accuracy on validation set: {accuracy:.2f}%')\n",
    "    \n",
    "    return accuracy, all_preds, all_labels\n",
    "\n",
    "# Run evaluation\n",
    "accuracy, predictions, true_labels = evaluate(vit_test, val_loader, device)"
   ]
  },
  {
   "cell_type": "code",
   "execution_count": null,
   "metadata": {},
   "outputs": [],
   "source": [
    "# Check dataset details\n",
    "print(f\"Number of validation samples: {len(val_loader.dataset)}\")\n",
    "print(f\"Number of classes: {len(val_loader.dataset.classes) if hasattr(val_loader.dataset, 'classes') else 'Unknown'}\")\n",
    "\n",
    "# Check distribution of predictions\n",
    "from collections import Counter\n",
    "pred_distribution = Counter(predictions)\n",
    "print(f\"Number of unique predicted classes: {len(pred_distribution)}\")\n",
    "print(f\"Min/Max predictions per class: {min(pred_distribution.values())}, {max(pred_distribution.values())}\")"
   ]
  }
 ],
 "metadata": {
  "kernelspec": {
   "display_name": "diffusion-env",
   "language": "python",
   "name": "python3"
  },
  "language_info": {
   "codemirror_mode": {
    "name": "ipython",
    "version": 3
   },
   "file_extension": ".py",
   "mimetype": "text/x-python",
   "name": "python",
   "nbconvert_exporter": "python",
   "pygments_lexer": "ipython3",
   "version": "3.10.16"
  }
 },
 "nbformat": 4,
 "nbformat_minor": 2
}
